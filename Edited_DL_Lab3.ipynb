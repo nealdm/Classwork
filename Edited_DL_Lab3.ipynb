{
  "nbformat": 4,
  "nbformat_minor": 0,
  "metadata": {
    "accelerator": "GPU",
    "colab": {
      "name": "Edited_DL_Lab3.ipynb",
      "provenance": [],
      "collapsed_sections": []
    },
    "kernelspec": {
      "display_name": "Python 3",
      "language": "python",
      "name": "python3"
    },
    "language_info": {
      "codemirror_mode": {
        "name": "ipython",
        "version": 3
      },
      "file_extension": ".py",
      "mimetype": "text/x-python",
      "name": "python",
      "nbconvert_exporter": "python",
      "pygments_lexer": "ipython3",
      "version": "3.6.3"
    },
    "pycharm": {
      "stem_cell": {
        "cell_type": "raw",
        "metadata": {
          "collapsed": false
        },
        "source": []
      }
    }
  },
  "cells": [
    {
      "cell_type": "markdown",
      "metadata": {
        "id": "Dg-ieRQ4rboS",
        "colab_type": "text"
      },
      "source": [
        "<a href=\"https://colab.research.google.com/github/wingated/cs474_labs_f2019/blob/master/DL_Lab3.ipynb\" target=\"_parent\"><img src=\"https://colab.research.google.com/assets/colab-badge.svg\" alt=\"Open In Colab\"/></a>"
      ]
    },
    {
      "cell_type": "markdown",
      "metadata": {
        "colab_type": "text",
        "id": "view-in-github"
      },
      "source": [
        "# Lab 3: Intro to CNNs and DNNs\n",
        "\n",
        "## Objectives\n",
        "\n",
        "* Build and train a deep conv net\n",
        "* Explore and implement various initialization techniques\n",
        "* Implement a parameterized module in Pytorch\n",
        "* Use a principled loss function\n",
        "\n",
        "## Video Tutorial\n",
        "[https://youtu.be/3TAuTcx-VCc](https://youtu.be/3TAuTcx-VCc)\n",
        "\n",
        "## Deliverable\n",
        "For this lab, you will submit an ipython notebook via learningsuite.\n",
        "This is where you build your first deep neural network!\n",
        "\n",
        "For this lab, we'll be combining several different concepts that we've covered during class,\n",
        "including new layer types, initialization strategies, and an understanding of convolutions.\n",
        "\n",
        "## Grading Standards:\n",
        "* 30% Part 0: Successfully followed lab video and typed in code\n",
        "* 20% Part 1: Re-implement Conv2D and CrossEntropy loss function\n",
        "* 20% Part 2: Implement different initialization strategies\n",
        "* 10% Part 3: Print parameters, plot train/test accuracy\n",
        "* 10% Part 4: Convolution parameters quiz\n",
        "* 10% Tidy and legible figures, including labeled axes where appropriate\n",
        "___\n",
        "\n",
        "### Part 0\n",
        "Watch and follow video tutorial:\n",
        "\n",
        "[https://youtu.be/3TAuTcx-VCc](https://youtu.be/3TAuTcx-VCc)\n",
        "\n",
        "**TODO:**\n",
        "\n",
        "**DONE:**\n",
        "\n",
        "* Watch tutorial\n"
      ]
    },
    {
      "cell_type": "code",
      "metadata": {
        "pycharm": {
          "name": "#%%\n"
        },
        "id": "RD4KjpeArboV",
        "colab_type": "code",
        "outputId": "54a5d0dc-5856-4350-c54a-20dd314f6f17",
        "colab": {
          "base_uri": "https://localhost:8080/",
          "height": 170
        }
      },
      "source": [
        "!pip3 install torch\n",
        "!pip3 install torchvision\n",
        "!pip3 install tqdm"
      ],
      "execution_count": 1,
      "outputs": [
        {
          "output_type": "stream",
          "text": [
            "Requirement already satisfied: torch in /usr/local/lib/python3.6/dist-packages (1.1.0)\n",
            "Requirement already satisfied: numpy in /usr/local/lib/python3.6/dist-packages (from torch) (1.16.5)\n",
            "Requirement already satisfied: torchvision in /usr/local/lib/python3.6/dist-packages (0.3.0)\n",
            "Requirement already satisfied: six in /usr/local/lib/python3.6/dist-packages (from torchvision) (1.12.0)\n",
            "Requirement already satisfied: torch>=1.1.0 in /usr/local/lib/python3.6/dist-packages (from torchvision) (1.1.0)\n",
            "Requirement already satisfied: numpy in /usr/local/lib/python3.6/dist-packages (from torchvision) (1.16.5)\n",
            "Requirement already satisfied: pillow>=4.1.1 in /usr/local/lib/python3.6/dist-packages (from torchvision) (4.3.0)\n",
            "Requirement already satisfied: olefile in /usr/local/lib/python3.6/dist-packages (from pillow>=4.1.1->torchvision) (0.46)\n",
            "Requirement already satisfied: tqdm in /usr/local/lib/python3.6/dist-packages (4.28.1)\n"
          ],
          "name": "stdout"
        }
      ]
    },
    {
      "cell_type": "markdown",
      "metadata": {
        "id": "xPiX3OK_rboY",
        "colab_type": "text"
      },
      "source": [
        ""
      ]
    },
    {
      "cell_type": "code",
      "metadata": {
        "colab_type": "code",
        "id": "wQOefmcZVgTl",
        "colab": {}
      },
      "source": [
        "import torch\n",
        "import torch.nn as nn\n",
        "import torch.nn.functional as F\n",
        "import torch.optim as optim\n",
        "from torch.utils.data import Dataset, DataLoader\n",
        "import numpy as np\n",
        "import matplotlib.pyplot as plt\n",
        "from torchvision import transforms, utils, datasets\n",
        "from tqdm import tqdm\n",
        "from torch.nn.parameter import Parameter\n",
        "import pdb\n",
        "\n",
        "assert torch.cuda.is_available(), \"You need to request a GPU from Runtime > Change Runtime\""
      ],
      "execution_count": 0,
      "outputs": []
    },
    {
      "cell_type": "code",
      "metadata": {
        "id": "n4TLFUcrriU4",
        "colab_type": "code",
        "colab": {}
      },
      "source": [
        "ds = datasets.FashionMNIST('/tmp/fashionmnist', train = True,\n",
        "                                           transform=transforms.ToTensor(),\n",
        "                                           download=True)"
      ],
      "execution_count": 0,
      "outputs": []
    },
    {
      "cell_type": "code",
      "metadata": {
        "id": "fvjN7sG7r0E1",
        "colab_type": "code",
        "colab": {}
      },
      "source": [
        "class FashionMNISTDataset(Dataset):\n",
        "    def __init__(self, root, train=True):\n",
        "      self.data = datasets.FashionMNIST(root,\n",
        "                                     train=train,\n",
        "                                     transform=transforms.ToTensor(),\n",
        "                                     download=True)\n",
        "    \n",
        "    def __getitem__(self,i):\n",
        "      x,y = self.data[i]      \n",
        "      return x,y\n",
        "    \n",
        "    def __len__(self):\n",
        "      return len(self.data) \n",
        "\n",
        "    "
      ],
      "execution_count": 0,
      "outputs": []
    },
    {
      "cell_type": "markdown",
      "metadata": {
        "colab_type": "text",
        "id": "QY4owfQwm-Ni"
      },
      "source": [
        "___\n",
        "\n",
        "### Part 1\n",
        "Re-implement a Conv2D module with parameters and a CrossEntropy loss function.\n",
        "\n",
        "**TODO:**\n",
        "\n",
        "**DONE:**\n",
        "* Conv2D\n",
        "* CrossEntropyLoss \n",
        "\n",
        "\n",
        "\n",
        "___\n",
        "\n",
        "### Part 2\n",
        "Implement a few initialization strategies which can include Xe initialization\n",
        "(sometimes called Xavier), Orthogonal initialization, and uniform random.\n",
        "You can specify which strategy you want to use with a parameter. \n",
        "\n",
        "\n",
        "\n",
        "Helpful links include:\n",
        "*  [Orthogonal Initialization](https://hjweide.github.io/orthogonal-initialization-in-convolutional-layers) (or the original paper: http://arxiv.org/abs/1312.6120)\n",
        "*  http://andyljones.tumblr.com/post/110998971763/an-explanation-of-xavier-initialization\n",
        "\n",
        "**TODO:**\n",
        "\n",
        "**DONE:**\n",
        "* Parameterize custom Conv2D for different initilization strategies\n",
        "* Xe\n",
        "* Orthogonal\n",
        "* Uniform\n",
        "\n"
      ]
    },
    {
      "cell_type": "code",
      "metadata": {
        "colab_type": "code",
        "id": "RkieTbwlYWPS",
        "colab": {}
      },
      "source": [
        "class CrossEntropyLoss(nn.Module):\n",
        "    def __init__(self, weight=None, size_average=None, ignore_index=-100,\n",
        "                 reduce=None, reduction='mean'):\n",
        "        super(CrossEntropyLoss, self).__init__()\n",
        "    \n",
        "    def forward(self,guess,real):\n",
        "      '''\n",
        "      parameters:\n",
        "      y_hat (tensor): tensor of batch_size by num_classes\n",
        "      y_truth (tensor): batch_size x 1 Tensor, with entries in the range [0, 9]\n",
        "      \n",
        "      returns:\n",
        "      loss (float): the cross entropy loss between y_hat and y_truth\n",
        "      '''\n",
        "      b, c  = guess.size() # batch_size, num_classes\n",
        "      \n",
        "      # -- First find the real class component ---\n",
        "      \n",
        "      # real_mask is a matrix of one hot vectors of the answers\n",
        "      real_mask = torch.eye(c)[real] # max(n) takes max on the nth axis.  It returns an array of values\n",
        "                                     # at position [0], and indicies (which I use here) at position [1].\n",
        "        \n",
        "      # actual_class_component is a vector containing the values given to the correct class\n",
        "      actual_class_component = torch.sum(real_mask.cuda()*guess, dim = 1) # summing simply gets rid of the zeros\n",
        "\n",
        "      # -- next find the component given by the other classes ---\n",
        "      \n",
        "      exp_guesses = torch.exp(guess) # exponentiates the predicted values\n",
        "      # zeros out the number for 'real answer' class\n",
        "#       exp_guesses[real_mask.cuda()==1] = 0.cuda()  # this should be in place, but it breaks the code if I put it in...\n",
        "#       exp_guesses = exp_guesses.cuda()             # this should be in place, but it breaks the code if I put it in...\n",
        "      \n",
        "      other_class_component = torch.log(torch.sum(exp_guesses,dim=1)) # sums along dimension 1, \n",
        "                                                                           # then takes the log of each remaining element\n",
        "      loss = other_class_component - actual_class_component # the loss is defined as this check out cross \n",
        "                                                            # entropy loss at https://pytorch.org/docs/stable/nn.html\n",
        "      \n",
        "      return torch.mean(loss) # we want to return the average loss over the batch\n",
        "      \n",
        "      \n",
        "\n",
        "\n",
        "\n",
        "class Conv2d(nn.Module):\n",
        "    def __init__(self, in_channels, out_channels, kernel_size, init_strategy='xav', \n",
        "                 stride=1, padding=0, dilation=1, groups=1, bias=True, padding_mode='zeros'):\n",
        "        self.__dict__.update(locals()) # takes all the paramaters as input \n",
        "        super(Conv2d,self).__init__()\n",
        "\n",
        "\n",
        "        self.weight = Parameter(torch.Tensor(\n",
        "                                 out_channels, \n",
        "                                 in_channels, \n",
        "                                 *kernel_size))  # the *kernel_size unpacks kernel[0] and kernel[1] into two variables\n",
        "        self.bias = Parameter(torch.Tensor(out_channels))\n",
        "        \n",
        "        self.bias.data.uniform_(0,0) # initialize the bias as all zeros\n",
        "        \n",
        "        # select which of the three initialization strategies to use (Xav, orth, or uniform)\n",
        "        if init_strategy == 'xav':\n",
        "          # xavier initialization\n",
        "            torch.nn.init.xavier_uniform_(self.weight)\n",
        "            \n",
        "        elif init_strategy == 'orth':\n",
        "          # orthogonal initialization\n",
        "            M = np.random.random((out_channels, in_channels * kernel_size[0] * kernel_size[1])).astype(np.float32)\n",
        "            U, _, Vt = np.linalg.svd(M, full_matrices=False)\n",
        "                # if the matrix M has more rows than columns, use U as the orthonormal matrix\n",
        "                # rather than V.  See https://en.wikipedia.org/wiki/Singular_value_decomposition\n",
        "                # for visualization\n",
        "            if len(M) > len(M[0]):    # if there are more rows than columns\n",
        "                W = U.reshape((out_channels, in_channels, kernel_size[0], kernel_size[1]))\n",
        "            else:\n",
        "                W = Vt.reshape((out_channels, in_channels, kernel_size[0], kernel_size[1]))\n",
        "            self.weight.data = torch.from_numpy(W) # sets the weights created \n",
        "                                                   # in numpy to the weight matrix    \n",
        "        elif init_strategy == 'uniform':\n",
        "            self.weight.data.uniform_(-1,1)\n",
        "        else:\n",
        "          raise ValueError(\"init_strategy needs to be 'xav', 'orth', or 'uniform'\")\n",
        "            \n",
        "        \n",
        "    def forward(self, x):\n",
        "      return F.conv2d(x, self.weight, self.bias, self.stride,\n",
        "                      self.padding, self.dilation, self.groups)\n",
        "    \n",
        "    def extra_repr(self): # allows us to configure the string that this custom class\n",
        "                          # prints out\n",
        "      pass"
      ],
      "execution_count": 0,
      "outputs": []
    },
    {
      "cell_type": "code",
      "metadata": {
        "colab_type": "code",
        "id": "d4C-_v9Hm7YE",
        "colab": {}
      },
      "source": [
        "class ConvNetwork(nn.Module):\n",
        "  def __init__(self,dataset):\n",
        "    super(ConvNetwork,self).__init__()\n",
        "    x,y = dataset[0]\n",
        "    c, h, w = x.size()\n",
        "    output = 10\n",
        "    \n",
        "    self.net = nn.Sequential(\n",
        "        Conv2d(c, 10, (3,3), init_strategy = 'xav', padding=(1,1)),\n",
        "        nn.ReLU(),\n",
        "        Conv2d(10, 10, (3,3), padding=(1,1)),\n",
        "        nn.ReLU(),\n",
        "        Conv2d(10, 10, (3,3), padding=(1,1)),\n",
        "        nn.ReLU(),\n",
        "        Conv2d(10, output, (28,28), padding=(0,0)),   \n",
        "    )\n",
        "    \n",
        "  def forward(self,x):\n",
        "      # returns the network's best guess for the y associated with x:\n",
        "      # (n, 10, 1, 1)\n",
        "      # (n, 10, 1)\n",
        "      # (n, 10)\n",
        "      return self.net(x).squeeze(-1).squeeze(-1)   \n"
      ],
      "execution_count": 0,
      "outputs": []
    },
    {
      "cell_type": "code",
      "metadata": {
        "colab_type": "code",
        "id": "jYqywck8Wdm9",
        "pycharm": {
          "is_executing": false
        },
        "colab": {}
      },
      "source": [
        "# Initialize Datasets\n",
        "train_dataset = FashionMNISTDataset('/tmp/fashionmnist')\n",
        "check_dataset = FashionMNISTDataset('/tmp/fashionmnist',train=False)\n",
        "\n",
        "# Initialize DataLoaders\n",
        "train_loader = DataLoader(train_dataset,\n",
        "                         batch_size=50,\n",
        "                         pin_memory=True)\n",
        "check_loader = DataLoader(train_dataset,\n",
        "                         batch_size=50,\n",
        "                         pin_memory=True)\n",
        "\n",
        "# Initialize Model\n",
        "model = ConvNetwork(train_dataset)\n",
        "model = model.cuda()\n",
        "\n",
        "# Initialize Objective funcitionand Optimizer and other parameters\n",
        "lossfn = CrossEntropyLoss()\n",
        "optimizer = optim.Adam(model.parameters(), lr=1e-3)"
      ],
      "execution_count": 0,
      "outputs": []
    },
    {
      "cell_type": "code",
      "metadata": {
        "colab_type": "code",
        "id": "mTg1jyIsYVZN",
        "pycharm": {
          "is_executing": false
        },
        "outputId": "873be5fe-ff25-43fe-d7c1-ce255b9b40b9",
        "colab": {
          "base_uri": "https://localhost:8080/",
          "height": 549
        }
      },
      "source": [
        "losses = []\n",
        "checks = []\n",
        "tr_acc = []\n",
        "ch_acc = []\n",
        "\n",
        "# Run your training and validation loop and collect stats\n",
        "for epoch in range(1):\n",
        "\n",
        "    loop = tqdm(total = len(train_loader), position=0, leave=False)\n",
        "\n",
        "    for batch, (x,y_truth) in enumerate(train_loader):\n",
        "      x,y_truth = x.cuda(async=True), y_truth.cuda(async=True)\n",
        "\n",
        "      optimizer.zero_grad()\n",
        "      \n",
        "      y_hat = model(x)\n",
        "      loss = lossfn(y_hat, y_truth)\n",
        "\n",
        "      loss.backward()\n",
        "\n",
        "      losses.append(loss.item())\n",
        "      tr_acc.append((torch.softmax(y_hat,1).argmax(1) == y_truth).float().mean())\n",
        "      accuracy = 0\n",
        "      loop.set_description('epoch:{} , loss:{:4f}, accuracy:{:4f}'.format(epoch,\n",
        "                                                                  loss,accuracy))\n",
        "      loop.update(1)\n",
        "\n",
        "      optimizer.step()\n",
        "\n",
        "      if batch % 100 ==0:\n",
        "        check = np.mean([lossfn(model(x.cuda()), y.cuda()).item() for x,y in check_loader])\n",
        "        checks.append((len(losses), check)) # len(losses) gives the x term, check\n",
        "                                            # gives the y term for easy graphing\n",
        "        for x,y in check_loader:\n",
        "          y_hat = model(x.cuda())\n",
        "          y = y.cuda()\n",
        "          ch_accuracy = (torch.softmax(y_hat,1).argmax(1) == y).float().mean()  \n",
        "          ch_acc.append( (len(losses),ch_accuracy) )  \n",
        "\n",
        "    loop.close()\n",
        "\n",
        "a,b = zip(*checks)\n",
        "plt.plot(losses, label = \"train\")\n",
        "plt.plot(a,b, label = \"check\")\n",
        "plt.xlabel(\"epoch\")\n",
        "plt.ylabel(\"loss\")\n",
        "plt.legend()\n",
        "plt.show()\n",
        "\n",
        "c,d = zip(*ch_acc)\n",
        "plt.plot(tr_acc, label = \"train\")\n",
        "plt.plot(c,d, label = \"check\")\n",
        "plt.xlabel(\"epoch\")\n",
        "plt.ylabel(\"accuracy\")\n",
        "plt.legend()\n",
        "plt.show()\n"
      ],
      "execution_count": 54,
      "outputs": [
        {
          "output_type": "stream",
          "text": [
            ""
          ],
          "name": "stderr"
        },
        {
          "output_type": "display_data",
          "data": {
            "image/png": "[encoded data removed]",
            "text/plain": [
              "<Figure size 432x288 with 1 Axes>"
            ]
          },
          "metadata": {
            "tags": []
          }
        },
        {
          "output_type": "display_data",
          "data": {
            "image/png": "[encoded data removed]",
            "text/plain": [
              "<Figure size 432x288 with 1 Axes>"
            ]
          },
          "metadata": {
            "tags": []
          }
        }
      ]
    },
    {
      "cell_type": "markdown",
      "metadata": {
        "colab_type": "text",
        "id": "ronkEckHiDaU"
      },
      "source": [
        "\n",
        "___\n",
        "\n",
        "### Part 3\n",
        "Print the number of parameters in your network and plot accuracy of your training and validation \n",
        "set over time. You should experiment with some deep networks and see if you can get a network \n",
        "with close to 1,000,000 parameters.\n",
        "\n",
        "**TODO:**\n",
        " \n",
        "\n",
        "**DONE:**\n",
        "* Experiment with Deep Networks\n",
        "* Plot accuracy of training and validation set over time\n",
        "* Print out number of parameters in the model\n"
      ]
    },
    {
      "cell_type": "code",
      "metadata": {
        "colab_type": "code",
        "id": "PaWCKjxvyRSf",
        "pycharm": {
          "is_executing": false
        },
        "colab": {}
      },
      "source": [
        "\n",
        "# Go back up and try a few different networks and initialization strategies\n",
        "# Plot loss if you want\n",
        "# Plot accuracy\n",
        "\n"
      ],
      "execution_count": 0,
      "outputs": []
    },
    {
      "cell_type": "code",
      "metadata": {
        "colab_type": "code",
        "id": "oijCR-JnyS6V",
        "pycharm": {
          "is_executing": false
        },
        "colab": {
          "base_uri": "https://localhost:8080/",
          "height": 34
        },
        "outputId": "1734dff3-3db4-4049-a403-21cc887cc909"
      },
      "source": [
        "# Compute and print the number of parameters in the model\n",
        "def parameter_count(model):\n",
        "  model_parameters = filter(lambda p: p.requires_grad, model.parameters())\n",
        "  return sum([np.prod(p.size()) for p in model_parameters])\n",
        "\n",
        "parameter_count(model)"
      ],
      "execution_count": 55,
      "outputs": [
        {
          "output_type": "execute_result",
          "data": {
            "text/plain": [
              "80330"
            ]
          },
          "metadata": {
            "tags": []
          },
          "execution_count": 55
        }
      ]
    },
    {
      "cell_type": "markdown",
      "metadata": {
        "colab_type": "text",
        "id": "7hXGRxUQh9gX"
      },
      "source": [
        "___\n",
        "\n",
        "### Part 4\n",
        "Learn about how convolution layers affect the shape of outputs, and answer the following quiz questions. Include these in a new markdown cell in your jupyter notebook.\n",
        "\n",
        "\n",
        "*Using a Kernel size of 3×3 what should the settings of your 2d convolution be that results in the following mappings (first answer given to you)*\n",
        "\n",
        "* (c=3, h=10, w=10) ⇒ (c=10, h=8, w=8) : (out_channels=10, kernel_size=(3, 3), padding=(0, 0))\n",
        "* (c=3, h=10, w=10) ⇒ (c=22, h=10, w=10) : **(out = 22, k = (3,3), p = (1,1))**\n",
        "* (c=3, h=10, w=10) ⇒ (c=65, h=12, w=12) : **(out = 65, k = (3,3), p = (2,2))**\n",
        "* (c=3, h=10, w=10) ⇒ (c=7, h=20, w=20) : **(out = 7, k = (3,3), p = (6,6))**\n",
        "\n",
        "*Using a Kernel size of 5×5:*)\n",
        "\n",
        "* (c=3, h=10, w=10) ⇒ (c=10, h=8, w=8) : (out_channels=10, kernel_size=(5, 5), padding=(1, 1))\n",
        "* (c=3, h=10, w=10) ⇒ (c=100, h=10, w=10) : **(out = 100, k = (5,5), p = (2,2))**\n",
        "* (c=3, h=10, w=10) ⇒ (c=23, h=12, w=12) : **(out = 23, k = (5,5), p = (3,3))**\n",
        "* (c=3, h=10, w=10) ⇒ (c=5, h=24, w=24) : **(out = 5, k = (5,5), p = (9,9))**\n",
        "\n",
        "*Using Kernel size of 5×3:*\n",
        "\n",
        "* (c=3, h=10, w=10) ⇒ (c=10, h=8, w=8) : **(out = 10, k = (5,3), p = (1,0))**\n",
        "* (c=3, h=10, w=10) ⇒ (c=100, h=10, w=10) : **(out = 100, k = (5,3), p = (2,1))**\n",
        "* (c=3, h=10, w=10) ⇒ (c=23, h=12, w=12) : **(out = 23, k = (5,3), p = (3,2))**\n",
        "* (c=3, h=10, w=10) ⇒ (c=5, h=24, w=24) : **(out = 5, k = (5,3), p = (9,8))**\n",
        "\n",
        "*Determine the kernel that requires the smallest padding size to make the following mappings possible:*\n",
        "\n",
        "* (c=3, h=10, w=10) ⇒ (c=10, h=9, w=7) : **(out = 10, k = (2,4), p = (0,0))**\n",
        "* (c=3, h=10, w=10) ⇒ (c=22, h=10, w=10) : **(out = 22, k = (1,1), p = (0,0))**\n",
        "\n",
        "**TODO:**\n",
        "\n",
        "**DONE:**\n",
        "* Answer all the questions above \n"
      ]
    },
    {
      "cell_type": "code",
      "metadata": {
        "colab_type": "code",
        "id": "XXfG3wClh8an",
        "pycharm": {
          "is_executing": false
        },
        "colab": {
          "base_uri": "https://localhost:8080/",
          "height": 34
        },
        "outputId": "67ffe2cf-b80b-48e1-f3cb-d6e8335a48ce"
      },
      "source": [
        "# Write some test code for checking the answers for these problems (example shown in the video)\n",
        "\n",
        "# c=3,h=10,w=10 -> c=10,h=8,w=8) : out=10, ksize=3,3, padding=0,0\n",
        "c = nn.Conv2d(3,10,kernel_size=(1,1), padding=(0,0))\n",
        "c(torch.zeros(1,3,10,10)).size()"
      ],
      "execution_count": 44,
      "outputs": [
        {
          "output_type": "execute_result",
          "data": {
            "text/plain": [
              "torch.Size([1, 10, 10, 10])"
            ]
          },
          "metadata": {
            "tags": []
          },
          "execution_count": 44
        }
      ]
    }
  ]
}