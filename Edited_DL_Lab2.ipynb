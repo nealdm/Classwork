{
 "cells": [
  {
   "cell_type": "markdown",
   "metadata": {
    "colab_type": "text",
    "id": "b2iKwXORd9B4"
   },
   "source": [
    "<a href=\"https://colab.research.google.com/github/wingated/cs474_labs_f2019/blob/master/DL_Lab2.ipynb\" target=\"_parent\"><img src=\"https://colab.research.google.com/assets/colab-badge.svg\" alt=\"Open In Colab\"/></a>"
   ]
  },
  {
   "cell_type": "markdown",
   "metadata": {
    "colab_type": "text",
    "id": "view-in-github"
   },
   "source": [
    "# Lab 2: Intro to PyTorch\n",
    "\n",
    "## Deliverable\n",
    "\n",
    "For this lab, you will submit an ipython notebook via learningsuite.\n",
    "This lab will be mostly boilerplate code, but you will be required to implement a few extras.\n",
    "\n",
    "**NOTE: you almost certainly will not understand most of what's going on in this lab!\n",
    "That's ok - the point is just to get you going with pytorch.\n",
    "We'll be working on developing a deeper understanding of every part of this code\n",
    "over the course of the next two weeks.**\n",
    "\n",
    "A major goal of this lab is to help you become conversant in working through pytorch\n",
    "tutorials and documentation.\n",
    "So, you should feel free to google whatever you want and need!\n",
    "\n",
    "This notebook will have three parts:\n",
    "\n",
    "* Part 1: Your notebook should contain the boilerplate code. See below.\n",
    "\n",
    "* Part 2: Your notebook should extend the boilerplate code by adding a testing loop.\n",
    "\n",
    "* Part 3: Your notebook should extend the boilerplate code by adding a visualization of test/training performance over time.\n",
    "\n",
    "The resulting image could, for example, look like this:\n",
    "![](http://liftothers.org/dokuwiki/lib/exe/fetch.php?cache=&w=900&h=608&tok=3092fe&media=cs501r_f2018:lab2.png)\n",
    "See the assigned readings for pointers to documentation on pytorch.\n",
    "___\n",
    "\n",
    "### Grading standards:\n",
    "Your notebook will be graded on the following:\n",
    "\n",
    "* 50% Successfully followed lab video and typed in code\n",
    "* 20% Modified code to include a test/train split\n",
    "* 20% Modified code to include a visualization of train/test losses\n",
    "* 10% Tidy and legible figures, including labeled axes where appropriate\n",
    "___\n",
    "\n",
    "### Description\n",
    "Throughout this class, we will be using pytorch to implement our deep neural networks. \n",
    "Pytorch is a deep learning framework that handles the low-level details of \n",
    "GPU integration and automatic differentiation.\n",
    "\n",
    "The goal of this lab is to help you become familiar with pytorch. \n",
    "The three parts of the lab are outlined above.\n",
    "\n",
    "For part 1, you should watch the video below, and type in the code as it is explained to you.\n",
    "\n",
    "A more detailed outline of Part 1 is below.\n",
    "\n",
    "For part 2, you must add a validation (or testing) loop using the \n",
    "FashionMNIST dataset with train=False\n",
    "\n",
    "For part 3, you must plot the loss values and demonstrate overfitting.\n",
    "\n",
    "The easiest way to do this is to limit the size of your training dataset \n",
    "so that it only returns a single batch (ie len(dataloader) == batch_size, \n",
    "and train for multiple epochs. In the example graph above, \n",
    "I set my batch size to 42, and augmented my dataloader to produce only 42 \n",
    "unique items by overwriting the len function to return 42. \n",
    "In my training loop, I performed a validation every epoch which basically corresponded \n",
    "to a validation every step.\n",
    "\n",
    "In practice, you will normally compute your validation loss every n steps, \n",
    "rather than at the end of every epoch. This is because some epochs can take hours, \n",
    "or even days and you don’t often want to wait that long to see your results.\n",
    "\n",
    "Testing your algorithm by using a single batch and training until overfitting \n",
    "is a great way of making sure that your model and optimizer are working the way they should!\n",
    "\n",
    "___\n",
    "\n",
    "### Part 0\n",
    "Watch Tutorial Video\n",
    "\n",
    "[https://youtu.be/0P-YctShbwc](https://youtu.be/0P-YctShbwc)\n",
    "\n",
    "**TODO:**\n",
    "* Watch video\n",
    "\n",
    "**DONE:**\n",
    "\n",
    "___\n",
    "\n",
    "### Part 1\n",
    "Your notebook should contain the boilerplate code. See below.\n",
    "\n",
    "**TODO:**\n",
    "\n",
    "* Replicate boilerplate from the video\n",
    "\n",
    "**DONE:**\n",
    "\n",
    "___\n",
    "\n",
    "### Part 2\n",
    "Your notebook should extend the boilerplate code by adding a testing loop.\n",
    "\n",
    "**TODO:**\n",
    "\n",
    "* Add a testing (validation) loop\n",
    "\n",
    "**DONE:**"
   ]
  },
  {
   "cell_type": "code",
   "execution_count": 1,
   "metadata": {
    "colab": {
     "base_uri": "https://localhost:8080/",
     "height": 170
    },
    "colab_type": "code",
    "id": "QClXc9i7VRyA",
    "outputId": "d9282dca-0dc9-49c0-82e7-412861ccff78",
    "pycharm": {
     "is_executing": false
    }
   },
   "outputs": [
    {
     "name": "stdout",
     "output_type": "stream",
     "text": [
      "Requirement already satisfied: torch in /usr/local/lib/python3.6/dist-packages (1.1.0)\n",
      "Requirement already satisfied: numpy in /usr/local/lib/python3.6/dist-packages (from torch) (1.16.5)\n",
      "Requirement already satisfied: torchvision in /usr/local/lib/python3.6/dist-packages (0.3.0)\n",
      "Requirement already satisfied: six in /usr/local/lib/python3.6/dist-packages (from torchvision) (1.12.0)\n",
      "Requirement already satisfied: pillow>=4.1.1 in /usr/local/lib/python3.6/dist-packages (from torchvision) (4.3.0)\n",
      "Requirement already satisfied: torch>=1.1.0 in /usr/local/lib/python3.6/dist-packages (from torchvision) (1.1.0)\n",
      "Requirement already satisfied: numpy in /usr/local/lib/python3.6/dist-packages (from torchvision) (1.16.5)\n",
      "Requirement already satisfied: olefile in /usr/local/lib/python3.6/dist-packages (from pillow>=4.1.1->torchvision) (0.46)\n",
      "Requirement already satisfied: tqdm in /usr/local/lib/python3.6/dist-packages (4.28.1)\n"
     ]
    }
   ],
   "source": [
    "!pip3 install torch \n",
    "!pip3 install torchvision\n",
    "!pip3 install tqdm"
   ]
  },
  {
   "cell_type": "code",
   "execution_count": 0,
   "metadata": {
    "colab": {},
    "colab_type": "code",
    "id": "OU80yuvqVXwk",
    "pycharm": {
     "is_executing": false
    }
   },
   "outputs": [],
   "source": [
    "import torch\n",
    "import torch.nn as nn\n",
    "import torch.nn.functional as F\n",
    "import torch.optim as optim\n",
    "from torch.utils.data import Dataset, DataLoader\n",
    "import numpy as np\n",
    "import matplotlib.pyplot as plt\n",
    "from torchvision import transforms, utils, datasets\n",
    "from tqdm import tqdm\n",
    " \n",
    "assert torch.cuda.is_available() # You need to request a GPU from Runtime > Change Runtime Type\n",
    "\n",
    "# Write the boilerplate code from the video here\n",
    "\n",
    "# Create a dataset class that extends the torch.utils.data Dataset class here\n",
    "\n",
    "# Extend the torch.Module class to create your own neural network\n",
    "\n",
    "# Instantiate the train and validation sets\n",
    "\n",
    "# Instantiate your data loaders\n",
    "\n",
    "# Instantiate your model and loss and optimizer functions\n",
    "\n",
    "# Run your training / validation loops\n"
   ]
  },
  {
   "cell_type": "code",
   "execution_count": 3,
   "metadata": {
    "colab": {
     "base_uri": "https://localhost:8080/",
     "height": 275
    },
    "colab_type": "code",
    "id": "FcshlrpvBYXg",
    "outputId": "3a1d7af9-d63f-44b7-fdd2-c0f880c23fb7"
   },
   "outputs": [
    {
     "name": "stderr",
     "output_type": "stream",
     "text": [
      "\r",
      "0it [00:00, ?it/s]"
     ]
    },
    {
     "name": "stdout",
     "output_type": "stream",
     "text": [
      "Downloading http://fashion-mnist.s3-website.eu-central-1.amazonaws.com/train-images-idx3-ubyte.gz to /tmp/fashionmnist/FashionMNIST/raw/train-images-idx3-ubyte.gz\n"
     ]
    },
    {
     "name": "stderr",
     "output_type": "stream",
     "text": [
      "26427392it [00:02, 10313882.85it/s]                             \n"
     ]
    },
    {
     "name": "stdout",
     "output_type": "stream",
     "text": [
      "Extracting /tmp/fashionmnist/FashionMNIST/raw/train-images-idx3-ubyte.gz\n"
     ]
    },
    {
     "name": "stderr",
     "output_type": "stream",
     "text": [
      "\r",
      "0it [00:00, ?it/s]"
     ]
    },
    {
     "name": "stdout",
     "output_type": "stream",
     "text": [
      "Downloading http://fashion-mnist.s3-website.eu-central-1.amazonaws.com/train-labels-idx1-ubyte.gz to /tmp/fashionmnist/FashionMNIST/raw/train-labels-idx1-ubyte.gz\n"
     ]
    },
    {
     "name": "stderr",
     "output_type": "stream",
     "text": [
      "32768it [00:00, 71979.91it/s]                            \n",
      "0it [00:00, ?it/s]"
     ]
    },
    {
     "name": "stdout",
     "output_type": "stream",
     "text": [
      "Extracting /tmp/fashionmnist/FashionMNIST/raw/train-labels-idx1-ubyte.gz\n",
      "Downloading http://fashion-mnist.s3-website.eu-central-1.amazonaws.com/t10k-images-idx3-ubyte.gz to /tmp/fashionmnist/FashionMNIST/raw/t10k-images-idx3-ubyte.gz\n"
     ]
    },
    {
     "name": "stderr",
     "output_type": "stream",
     "text": [
      "4423680it [00:01, 3059802.81it/s]                            \n",
      "0it [00:00, ?it/s]"
     ]
    },
    {
     "name": "stdout",
     "output_type": "stream",
     "text": [
      "Extracting /tmp/fashionmnist/FashionMNIST/raw/t10k-images-idx3-ubyte.gz\n",
      "Downloading http://fashion-mnist.s3-website.eu-central-1.amazonaws.com/t10k-labels-idx1-ubyte.gz to /tmp/fashionmnist/FashionMNIST/raw/t10k-labels-idx1-ubyte.gz\n"
     ]
    },
    {
     "name": "stderr",
     "output_type": "stream",
     "text": [
      "8192it [00:00, 23949.76it/s]            "
     ]
    },
    {
     "name": "stdout",
     "output_type": "stream",
     "text": [
      "Extracting /tmp/fashionmnist/FashionMNIST/raw/t10k-labels-idx1-ubyte.gz\n",
      "Processing...\n",
      "Done!\n"
     ]
    },
    {
     "name": "stderr",
     "output_type": "stream",
     "text": [
      "\n"
     ]
    }
   ],
   "source": [
    "ds = datasets.FashionMNIST('/tmp/fashionmnist', train = True,\n",
    "                                           transform=transforms.ToTensor(),\n",
    "                                           download=True)"
   ]
  },
  {
   "cell_type": "code",
   "execution_count": 27,
   "metadata": {
    "colab": {
     "base_uri": "https://localhost:8080/",
     "height": 300
    },
    "colab_type": "code",
    "id": "rtvvpo46ef14",
    "outputId": "30c04b25-ae3b-4ad5-fd34-0938e537cd88"
   },
   "outputs": [
    {
     "name": "stderr",
     "output_type": "stream",
     "text": [
      "loss:1.989900: 100%|██████████| 4000/4000 [01:13<00:00, 54.28it/s]\n"
     ]
    },
    {
     "data": {
      "image/png": "[encoded data removed]",
      "text/plain": [
       "<Figure size 432x288 with 1 Axes>"
      ]
     },
     "metadata": {
      "tags": []
     },
     "output_type": "display_data"
    }
   ],
   "source": [
    "# define the numbers for this particular dataset and this particular setup\n",
    "\n",
    "in_dim = 784    # because the dataset is 28x28 (=728) images with only one channel\n",
    "                # -- note that I put 728 because I will flatten out the images\n",
    "                # before putting them in\n",
    "\n",
    "out_dim = 10    # we want to classify each image as one of 10 things!\n",
    "\n",
    "num_epochs = 2000  # this is the number of times we want to run through \n",
    "                # the network on the training set\n",
    "  \n",
    "one_batch_size = 50  # this is the number of items that will be processed in one\n",
    "                     # run; the number of items that will influence a single \n",
    "                     # step down the gradient\n",
    "\n",
    "dataset_size = 100 # this is the size of the total datasets for the purpose of\n",
    "                   # trying to overfit\n",
    "  \n",
    "  \n",
    "  \n",
    "  \n",
    "class LinearNetwork(nn.Module):\n",
    "  '''Define the Linear Network to classify the FashionMNIST dataset'''\n",
    "  \n",
    "  def __init__(self, dataset):             # each network defined must contain\n",
    "                                           # an __init__() function and a forward()\n",
    "                                           # function.\n",
    "    super(LinearNetwork, self).__init__()  \n",
    "    x, y = dataset[0]\n",
    "    c, h, w = x.size()                     # c, h, w = channels, height, width\n",
    "                                           # The following line defines the architecture\n",
    "                                           # of this particular network\n",
    "    self.net = nn.Sequential(nn.Linear(in_dim, 500),\n",
    "                             nn.ReLU(),\n",
    "#                              nn.Linear(500,100),\n",
    "#                              nn.ReLU(),\n",
    "                             nn.Linear(500, out_dim)\n",
    "                            )  \n",
    "    \n",
    "  def forward(self, x):                    # the forward function serves to tell\n",
    "                                           # the network how to actually construct\n",
    "                                           # the layers of the net, and in which\n",
    "                                           # order and manner to backpropogate\n",
    "    n, c, h, w = x.size()\n",
    "    flattened = x.view(n, c * h * w)  \n",
    "    return self.net(flattened)\n",
    "  \n",
    "  \n",
    "  \n",
    "class Train_FashionMNISTProcessedDataset(Dataset):\n",
    "  '''Define the training Dataset'''\n",
    "  def __init__(self, root, train=True):    # note that train is True on the training set\n",
    "    \n",
    "    self.data = datasets.FashionMNIST(root, train = train,\n",
    "                                           transform=transforms.ToTensor(),\n",
    "                                           download=True)\n",
    "\n",
    "                            # each dataset must have a __getitem__\n",
    "                            # and a __len__ method\n",
    "  def __getitem__(self, i):             \n",
    "    x,y = self.data[i]\n",
    "    return x, y\n",
    "\n",
    "  def __len__(self):\n",
    "    return dataset_size # typically, I would put len(self.data) here, but I want\n",
    "                        # to overfit to fill the requirement of the assignment\n",
    "  \n",
    "  \n",
    "  \n",
    "  \n",
    "class Check_FashionMNISTProcessedDataset(Dataset):\n",
    "  '''Define the check Dataset (also called the testing dataset, but calling it \n",
    "     check adds for use of the variables 'c' and 't' for future reference)'''\n",
    "  def __init__(self, root, train=False):    # note that train is False on the validation set\n",
    "    \n",
    "    self.data = datasets.FashionMNIST(root, train = train,\n",
    "                                           transform=transforms.ToTensor(),\n",
    "                                           download=True)\n",
    "\n",
    "                            # each dataset must have a __getitem__\n",
    "                            # and a __len__ method\n",
    "  def __getitem__(self, i):             \n",
    "    x,y = self.data[i]\n",
    "    return x, y\n",
    "\n",
    "  def __len__(self):\n",
    "    return dataset_size # typically, I would put len(self.data) here, but I want\n",
    "                        # to overfit to fill the requirement of the assignment\n",
    "  \n",
    "    \n",
    "    \n",
    "  # With the classes established, I create instances of my training and checking\n",
    "  # datasets, along with the model (the network created above).  \n",
    "    \n",
    "train_dataset = Train_FashionMNISTProcessedDataset('/tmp/fashionmnist', train=True)\n",
    "check_dataset = Check_FashionMNISTProcessedDataset('/tmp/fashionmnist', train=False)\n",
    "model = LinearNetwork(train_dataset)\n",
    "model = model.cuda()   # we add model to the GPU here\n",
    "\n",
    "  # also establish the objective (or loss) function here, as well as the optimizer\n",
    "objective = torch.nn.CrossEntropyLoss()\n",
    "optimizer = optim.SGD(model.parameters(), lr = 1e-4)\n",
    "\n",
    "                       # the train loader and check loader allow for access to the\n",
    "                       # items in their respective dataset; they allow them to be\n",
    "                       # processed together one batch at a time.\n",
    "                                     \n",
    "train_loader = DataLoader(train_dataset,\n",
    "                         batch_size = one_batch_size,\n",
    "                         pin_memory = True)\n",
    "check_loader = DataLoader(check_dataset,\n",
    "                         batch_size = one_batch_size,\n",
    "                         pin_memory = True)\n",
    "\n",
    "  # these train_looses and check_losses arrays will fill up with the loss values\n",
    "train_losses = []\n",
    "check_losses = []\n",
    "\n",
    "\n",
    "# the tqdm shows the information as you train\n",
    "loop = tqdm(total=len(train_loader) * num_epochs, position=0)\n",
    "\n",
    "for epoch in range(num_epochs): # runs num_epochs number of times: each epoch runs\n",
    "                                # through one batch of data\n",
    "  \n",
    "  # ---training loop start\n",
    "  for i, (x, y_truth) in enumerate(train_loader): # each loop here steps through one batch\n",
    "    x, y_truth = x.cuda(async=True), y_truth.cuda(async=True) #async=True speeds it up\n",
    "\n",
    "    # forget about the gradients from before\n",
    "    optimizer.zero_grad()\n",
    "\n",
    "    y_hat = model(x)\n",
    "    train_loss = objective(y_hat, y_truth) # this is a way \n",
    "        \n",
    "    # display the information as you train\n",
    "    loop.set_description('loss:{:4f}'.format(train_loss.item()))\n",
    "    loop.update(1)\n",
    "\n",
    "    train_loss.backward()\n",
    "\n",
    "    optimizer.step()\n",
    "  # ---training loop ends  \n",
    "    \n",
    "  # ---checking loop start  \n",
    "  for i, (x, y_truth) in enumerate(check_loader): # each loop here steps through one batch\n",
    "    x, y_truth = x.cuda(async=True), y_truth.cuda(async=True) #async=True speeds it up\n",
    "    y_hat = model(x)\n",
    "    check_loss = objective(y_hat, y_truth)\n",
    "  # ---checking loop ends\n",
    "  \n",
    "  train_losses.append(train_loss.item())\n",
    "  check_losses.append(check_loss.item())\n",
    "  \n",
    "loop.close()\n",
    "\n",
    "\n",
    "#  Plot the resulting loss curves\n",
    "plt.plot(train_losses, label = \"train\")\n",
    "plt.plot(check_losses, label = \"check\")\n",
    "plt.xlabel(\"Epochs\")\n",
    "plt.ylabel(\"Loss\")\n",
    "plt.legend()\n",
    "plt.show()"
   ]
  },
  {
   "cell_type": "markdown",
   "metadata": {
    "colab_type": "text",
    "id": "_IZmHOvirnFn"
   },
   "source": [
    "\n",
    "___\n",
    "\n",
    "### Part 3\n",
    "Your notebook should extend the boilerplate code by adding a visualization of test/training\n",
    "performance over time. Use matplotlib.pyplot\n",
    "\n",
    "**TODO:**\n",
    "\n",
    "**DONE:**\n",
    "* Add a visualization of test/train performance (i.e. loss) over time.\n",
    "\n",
    "**SEE ABOVE**\n"
   ]
  }
 ],
 "metadata": {
  "accelerator": "GPU",
  "colab": {
   "collapsed_sections": [],
   "name": "Edited_DL_Lab2.ipynb",
   "provenance": [],
   "version": "0.3.2"
  },
  "kernelspec": {
   "display_name": "Python 3",
   "language": "python",
   "name": "python3"
  },
  "language_info": {
   "codemirror_mode": {
    "name": "ipython",
    "version": 3
   },
   "file_extension": ".py",
   "mimetype": "text/x-python",
   "name": "python",
   "nbconvert_exporter": "python",
   "pygments_lexer": "ipython3",
   "version": "3.7.3"
  },
  "pycharm": {
   "stem_cell": {
    "cell_type": "raw",
    "metadata": {
     "collapsed": false
    },
    "source": []
   }
  }
 },
 "nbformat": 4,
 "nbformat_minor": 1
}
